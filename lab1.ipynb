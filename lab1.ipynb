{
 "cells": [
  {
   "cell_type": "markdown",
   "metadata": {},
   "source": [
    "Результат скидывать на почту tt48@mail.ru в виде файла *.ipynb<br>\n",
    "В теме письма указывать, что это второй курс и что это \"системы аналитических вычислений\" или \"пакеты\". + номер ДЗ туда же.<br>\n",
    "В содержании письма указывать ФИО и группу."
   ]
  },
  {
   "cell_type": "markdown",
   "metadata": {},
   "source": [
    "<h1>Задание 0</h1>\n",
    "<pre>\n",
    "Установить SageMath 9.2 (https://www.sagemath.org/)\n",
    "В случае проблем - писать на почту.\n",
    "\t\n",
    "Как резервный вариант - on-line редакторы\n",
    "\thttps://cocalc.com/doc/jupyter-notebook.html\n",
    "\t\tесть некоторые проблемы по LaTeX возможностям.\n",
    "\thttps://sagecell.sagemath.org/\n",
    "\t\tработает, но предоставляется только одна ячейка\n",
    "\t\n",
    "\t- медленнее работают\n",
    "\t\t, есть ограничения по количеству времени на выполнение запроса\n",
    "\t\t, некоторые ошибки по синтаксису опускаются (LaTeX касается)\n",
    "\t\t, больше места экрана уходит на менюшки и прочего.\n",
    "\t\t\n",
    "\t+ ничего устанавливать не нужно. Можно даже не регистрироваться.\n",
    "</pre>"
   ]
  },
  {
   "cell_type": "markdown",
   "metadata": {},
   "source": [
    "<h1>Задание 1 - часть 1 - Квадратик</h1>\n",
    "Доделать начинания, что были на занятии:<br>\n",
    "при помощи функции отображения графиков отобразить квадратик.<br>\n",
    "Задав квадратик матрицей координат, повернуть и сдвинуть его относительно исходного положения.<br>\n",
    "Вывести исходный квадратик и результат.\n"
   ]
  },
  {
   "cell_type": "markdown",
   "metadata": {},
   "source": [
    "<h1>Задание 1 - часть 2 - Исследование функции</h1>\n",
    "Для заданной формулой функции найти:\n",
    "<ol>\n",
    "    <li>Область определения функции.</li>\n",
    "    <li>Является ли функция четной или нечетной, является ли периодической.</li>\n",
    "    <li>Точки пересечения графика с осями координат.</li>\n",
    "    <li>Промежутки знакопостоянства.</li>\n",
    "    <li>Промежутки возрастания и убывания.</li>\n",
    "    <li>Точки экстремума и значения в этих точках.</li>\n",
    "    <li>Непрерывность. Наличие точек разрыва и их классификация.</li>\n",
    "    <li>Асимптоты.</li>\n",
    "</ol>\n",
    "Построить график функции, асимптоты, промежутки знакопостоянства. (см. папку с материалами).<br>\n",
    "Необходимо также сделать минимальное, но оформление решения, а не просто набор ответов.\n",
    "\n",
    "<h4>Справочные материалы:</h4>\n",
    "<ol>\n",
    "    <li>Гусак, 1999г. - исследование графиков</li>\n",
    "    <li>Ефимов, Поспелов — т.2, стр. 86</li>\n",
    "    <li>Ильин, Поздняк — т.1, стр. 143 и стр. 300-327</li>\n",
    "    <li>Пискунов — стр. 144-184</li>\n",
    "</ol>"
   ]
  },
  {
   "cell_type": "markdown",
   "metadata": {},
   "source": [
    "<h1>Варианты:</h1>"
   ]
  },
  {
   "cell_type": "code",
   "execution_count": 1,
   "metadata": {},
   "outputs": [],
   "source": [
    "tasks = [ \n",
    "            sin(2*x**3)**2/x**3  # исправлен\n",
    "            , (x**2 - 4)*sin((pi*(x**2))/6) / (x**2 - 1)\n",
    "            , sqrt(abs(3*x^3 + 2*x^2 - 10*x)) / (4*x)\n",
    "            , 1/2 * ln(sqrt(x^2 + 1) / sqrt(x^2 - 1)) - 15*x**2\n",
    "            , (x^3 - x^2 - x + 1)^(1/3) / tan(x)\n",
    "            , 2*log((x - 1) / x) + 1\n",
    "            , ln(x - 1) / (x - 1)^2\n",
    "        ]\n",
    "\n",
    "\n",
    "def get_variant_for_number(_number, _variations_quo):\n",
    "    return (_number - 1) % _variations_quo"
   ]
  },
  {
   "cell_type": "markdown",
   "metadata": {},
   "source": [
    "В your_number присвоить ваш номер по списку в рейтинге.\n",
    "Рейтинги ваши лежат <a href='https://docs.google.com/spreadsheets/d/14cdxMHQw2Bd4i_4qoYWzV4olXgaNuckR6ZzWLCQQEUg/edit?usp=sharing'>здесь</a>"
   ]
  },
  {
   "cell_type": "code",
   "execution_count": 2,
   "metadata": {},
   "outputs": [
    {
     "name": "stdout",
     "output_type": "stream",
     "text": [
      "Номер вашего задания: 5.\n"
     ]
    },
    {
     "data": {
      "text/html": [
       "<html>\\[\\newcommand{\\Bold}[1]{\\mathbf{#1}}\\verb|Ваша|\\phantom{\\verb!x!}\\verb|функция:| 2 \\, \\log\\left(\\frac{x - 1}{x}\\right) + 1\\]</html>"
      ],
      "text/latex": [
       "$$\\newcommand{\\Bold}[1]{\\mathbf{#1}}\\verb|Ваша|\\phantom{\\verb!x!}\\verb|функция:| 2 \\, \\log\\left(\\frac{x - 1}{x}\\right) + 1$$"
      ],
      "text/plain": [
       "'Ваша функция: ' 2*log((x - 1)/x) + 1"
      ]
     },
     "metadata": {},
     "output_type": "display_data"
    }
   ],
   "source": [
    "your_number = 20  # сюда вбить ваш номер по списку в рейтинге \n",
    "number_of_your_task = get_variant_for_number(_number=your_number, _variations_quo=len(tasks))\n",
    "print(f\"Номер вашего задания: {number_of_your_task}.\")\n",
    "show(\"Ваша функция: \", tasks[number_of_your_task])"
   ]
  },
  {
   "cell_type": "markdown",
   "metadata": {},
   "source": [
    "<h1 style=\"color: red\">Примечание:</h1>\n",
    "номер 0 был изменен в более простую сторону<br>\n",
    "Номер 2 следует исследовать как $(((3*x**3 + 2*x**2 - 10*x)**(2))**(1/4)) / (4*x)$,\n",
    "и поделить на два случая подкоренного выражения (когда значение с минусом и когда с плюсом),\n",
    "чтобы избежать незнакомые операторы и пр.<br>\n",
    "Номер 3 заменен <br>\n",
    "В номере 3 для более простого вида производных использовать simplify_full(). Чтобы не вываливались warning'и - разбить график на два интервала по области определения. Для инофрмативности графиков - ограничить значение по y (параметр ymax у plot или show)."
   ]
  },
  {
   "cell_type": "code",
   "execution_count": 3,
   "metadata": {},
   "outputs": [
    {
     "data": {
      "image/png": "[encoded data removed]",
      "text/plain": [
       "Graphics object consisting of 1 graphics primitive"
      ]
     },
     "metadata": {},
     "output_type": "display_data"
    },
    {
     "data": {
      "image/png": "[encoded data removed]",
      "text/plain": [
       "Graphics object consisting of 1 graphics primitive"
      ]
     },
     "metadata": {},
     "output_type": "display_data"
    },
    {
     "data": {
      "image/png": "[encoded data removed]",
      "text/plain": [
       "Graphics object consisting of 1 graphics primitive"
      ]
     },
     "metadata": {},
     "output_type": "display_data"
    }
   ],
   "source": [
    "height = 2\n",
    "width = 5\n",
    "\n",
    "rect = matrix([\n",
    "    [0, 0],\n",
    "    [0, height],\n",
    "    [width, height],\n",
    "    [width, 0],\n",
    "    [0, 0]\n",
    "])\n",
    "\n",
    "lines = line(rect, color = 'green')\n",
    "\n",
    "show(lines, xmin = 0.0, xmax = 10.0, ymin = 0.0, ymax = 8.0, aspect_ratio = 1)\n",
    "\n",
    "# shifting\n",
    "horShift = 1\n",
    "vertShift = 4\n",
    "for i in range(rect.nrows()):\n",
    "    rect[i] = [rect[i][0] + horShift, rect[i][1] + vertShift]\n",
    "\n",
    "lines = line(rect, color = 'red')\n",
    "show(lines, xmin = 0.0, xmax = 10.0, ymin = 0.0, ymax = 8.0, aspect_ratio = 1)\n",
    "\n",
    "# rotation\n",
    "angle = 30 #in degrees\n",
    "alpha = math.radians(angle)\n",
    "rotMatr = matrix([\n",
    "    [cos(alpha), -sin(alpha)],\n",
    "    [sin(alpha), cos(alpha)]\n",
    "])\n",
    "rect = rect * rotMatr\n",
    "lines = line(rect, color = 'blue')\n",
    "show(lines, xmin = 0.0, xmax = 10.0, ymin = 0.0, ymax = 8.0, aspect_ratio = 1)\n",
    "\n"
   ]
  },
  {
   "cell_type": "markdown",
   "metadata": {},
   "source": [
    "## Задание 1 - Часть 2 - Исследование функции\n",
    "\n",
    "## Вариант 5\n",
    "\n",
    "### Область определения функции."
   ]
  },
  {
   "cell_type": "code",
   "execution_count": 4,
   "metadata": {},
   "outputs": [
    {
     "data": {
      "text/html": [
       "<html>\\[\\newcommand{\\Bold}[1]{\\mathbf{#1}}y =  2 \\, \\log\\left(\\frac{x - 1}{x}\\right) + 1\\]</html>"
      ],
      "text/latex": [
       "$$\\newcommand{\\Bold}[1]{\\mathbf{#1}}y =  2 \\, \\log\\left(\\frac{x - 1}{x}\\right) + 1$$"
      ],
      "text/plain": [
       "y =  2*log((x - 1)/x) + 1"
      ]
     },
     "metadata": {},
     "output_type": "display_data"
    }
   ],
   "source": [
    "y(x) = 2 * log((x - 1) / x) + 1\n",
    "show(LatexExpr(\"y = \"), y(x))"
   ]
  },
  {
   "cell_type": "code",
   "execution_count": 5,
   "metadata": {},
   "outputs": [
    {
     "name": "stdout",
     "output_type": "stream",
     "text": [
      "[[x < 0], [x > 1]]\n"
     ]
    }
   ],
   "source": [
    "# Список точек, где функция не существует\n",
    "\n",
    "g = (x - 1) / x\n",
    "solutions = solve(g > 0, x)\n",
    "\n",
    "print(solutions)\n",
    "\n",
    "roots_null = [0, 1]"
   ]
  },
  {
   "cell_type": "markdown",
   "metadata": {},
   "source": [
    "Областью определения логарифма является $X = (0, +\\infty)$, в логарифме есть дробь, её знаменатель не может обращаться в ноль, соответственно $x \\ne 0$. Соответственно, область определения $D(y)$ будет равна $\\frac{x-1}{x} > 0$, откуда следует, что $x \\in (-\\infty; 0) \\cup (1; +\\infty)$."
   ]
  },
  {
   "cell_type": "code",
   "execution_count": 6,
   "metadata": {},
   "outputs": [
    {
     "data": {
      "text/html": [
       "<html>\\[\\newcommand{\\Bold}[1]{\\mathbf{#1}}y(x) - y(-x) = -2*log((x + 1)/x) + 2*log((x - 1)/x)\\]</html>"
      ],
      "text/latex": [
       "$$\\newcommand{\\Bold}[1]{\\mathbf{#1}}y(x) - y(-x) = -2*log((x + 1)/x) + 2*log((x - 1)/x)$$"
      ],
      "text/plain": [
       "y(x) - y(-x) = -2*log((x + 1)/x) + 2*log((x - 1)/x)"
      ]
     },
     "metadata": {},
     "output_type": "display_data"
    }
   ],
   "source": [
    "# Чётность функции\n",
    "g = y(x) - y(-x)\n",
    "simplify(g)\n",
    "show(LatexExpr(\"y(x) - y(-x) = \" + str(g)))"
   ]
  },
  {
   "cell_type": "markdown",
   "metadata": {},
   "source": [
    "\n",
    "$y(-x) \\ne y(x)$\n",
    "\n",
    "$y(-x) \\ne -y(x)$\n",
    "\n",
    "Следовательно, функция не является ни чётной, ни нечётной."
   ]
  },
  {
   "cell_type": "code",
   "execution_count": 7,
   "metadata": {},
   "outputs": [
    {
     "data": {
      "text/plain": [
       "[T == 0]"
      ]
     },
     "execution_count": 7,
     "metadata": {},
     "output_type": "execute_result"
    }
   ],
   "source": [
    "# Периодичность функции\n",
    "var(\"T\")\n",
    "g = y(x) - y(T + x)\n",
    "g.simplify_full()\n",
    "solve(g, T)"
   ]
  },
  {
   "cell_type": "markdown",
   "metadata": {},
   "source": [
    "Выходит, что $y(x) - y(T + x)$ выполняется только для $T = 0$, это означает, что функция $y(x)$ не является периодической.\n",
    "\n",
    "### Точки пересечения графика с осями координат."
   ]
  },
  {
   "cell_type": "code",
   "execution_count": 8,
   "metadata": {},
   "outputs": [
    {
     "data": {
      "image/png": "[encoded data removed]",
      "text/plain": [
       "Graphics object consisting of 2 graphics primitives"
      ]
     },
     "execution_count": 8,
     "metadata": {},
     "output_type": "execute_result"
    }
   ],
   "source": [
    "plot(y, xmin = -10.0, xmax = 10.0, ymin = -10.0, ymax = 10.0)"
   ]
  },
  {
   "cell_type": "code",
   "execution_count": 9,
   "metadata": {},
   "outputs": [
    {
     "data": {
      "text/html": [
       "<html>\\[\\newcommand{\\Bold}[1]{\\mathbf{#1}}x_{0} = 2.5414940825367984\\]</html>"
      ],
      "text/latex": [
       "$$\\newcommand{\\Bold}[1]{\\mathbf{#1}}x_{0} = 2.5414940825367984$$"
      ],
      "text/plain": [
       "x_{0} = 2.5414940825367984"
      ]
     },
     "metadata": {},
     "output_type": "display_data"
    }
   ],
   "source": [
    "# Корни\n",
    "roots = []\n",
    "solutions = solve(y, x)\n",
    "for i in range(len(solutions)):\n",
    "    roots.append(float(solutions[i].rhs()))\n",
    "    show(LatexExpr(\"x_{\" + str(i) + \"} = \" + str(roots[i])))"
   ]
  },
  {
   "cell_type": "markdown",
   "metadata": {},
   "source": [
    "В нуле функция не определена, поэтому пересечений с осью Оy нет."
   ]
  },
  {
   "cell_type": "markdown",
   "metadata": {},
   "source": [
    "### Промежутки знакопостоянства."
   ]
  },
  {
   "cell_type": "code",
   "execution_count": 10,
   "metadata": {},
   "outputs": [
    {
     "data": {
      "image/png": "[encoded data removed]",
      "text/plain": [
       "Graphics object consisting of 4 graphics primitives"
      ]
     },
     "metadata": {},
     "output_type": "display_data"
    },
    {
     "data": {
      "image/png": "[encoded data removed]",
      "text/plain": [
       "Graphics object consisting of 7 graphics primitives"
      ]
     },
     "metadata": {},
     "output_type": "display_data"
    }
   ],
   "source": [
    "roots = roots + roots_null\n",
    "roots = sorted(roots)\n",
    "\n",
    "ints_of_sign_const1 = plot(0, xmin=-1, xmax=0, ymin=-0.5, ymax=0.5)\n",
    "ints_of_sign_const2 = plot(0, xmin=1, xmax=roots[-1] + 1, ymin=-0.5, ymax=0.5)\n",
    "\n",
    "y_margin = 0.05\n",
    "\n",
    "ints_of_sign_const1 += point((roots[0], 0), color=\"red\", size=30, zorder=10)\n",
    "ints_of_sign_const1 += text(\"$\" + str(round(roots[0], 2)) + \"$\", (roots[0], -y_margin), color=\"black\", fontsize=14)\n",
    "\n",
    "x_cur = float(roots[0] - 1) / 2\n",
    "display_sign = \"-\"\n",
    "if (y(x_cur).n(digits = 10) > 0):\n",
    "    display_sign = \"+\"\n",
    "ints_of_sign_const1 += text(display_sign, (x_cur , y_margin), color=\"black\", fontsize=14)\n",
    "\n",
    "ints_of_sign_const1.show(axes=False)\n",
    "\n",
    "roots.pop(0)\n",
    "\n",
    "for i in roots:\n",
    "    ints_of_sign_const2 += point((i, 0), color=\"red\", size=30, zorder=10)\n",
    "    ints_of_sign_const2 += text(\"$\" + str(round(i, 2)) + \"$\", (i, -y_margin), color=\"black\", fontsize=14)\n",
    "    \n",
    "for i in range(len(roots) - 1):\n",
    "    x_cur = float(roots[i] + roots[i + 1]) / 2\n",
    "    display_sign = \"-\"\n",
    "    if (y(x_cur).n(digits = 10) > 0):\n",
    "        display_sign = \"+\"\n",
    "    ints_of_sign_const2 += text(display_sign, (x_cur , y_margin), color=\"black\", fontsize=14)\n",
    "\n",
    "x_cur = float(roots[1] * 2 + 1) / 2\n",
    "display_sign = \"-\"\n",
    "if (y(x_cur).n(digits = 10) > 0):\n",
    "    display_sign = \"+\"\n",
    "ints_of_sign_const2 += text(display_sign, (x_cur , y_margin), color=\"black\", fontsize=14)\n",
    "\n",
    "\n",
    "ints_of_sign_const2.show(axes=False)"
   ]
  },
  {
   "cell_type": "markdown",
   "metadata": {},
   "source": [
    "### Промежутки возрастания и убывания."
   ]
  },
  {
   "cell_type": "code",
   "execution_count": 15,
   "metadata": {},
   "outputs": [
    {
     "data": {
      "image/png": "[encoded data removed]",
      "text/plain": [
       "Graphics object consisting of 3 graphics primitives"
      ]
     },
     "execution_count": 15,
     "metadata": {},
     "output_type": "execute_result"
    }
   ],
   "source": [
    "y_d = derivative(y(x))\n",
    "plot(y_d, xmin = -10.0, xmax = 10.0, ymin = -0.5, ymax = 10.0, exclude=[0,1])"
   ]
  },
  {
   "cell_type": "markdown",
   "metadata": {},
   "source": [
    "Функция не определена на отрезке $[0, 1]$, в остальных местах производная не обращается в ноль, следовательно, экстремумов нет.\n",
    "\n",
    "$F = y(x)$ возрастает на всей области определения. "
   ]
  },
  {
   "cell_type": "markdown",
   "metadata": {},
   "source": [
    "### Непрерывность. Наличие точек разрыва и их классификация."
   ]
  },
  {
   "cell_type": "code",
   "execution_count": 12,
   "metadata": {},
   "outputs": [
    {
     "data": {
      "text/html": [
       "<html>\\[\\newcommand{\\Bold}[1]{\\mathbf{#1}}x_0 = 0 \\phantom{\\verb!x!}\\verb|разрыв|\\phantom{\\verb!x!}\\verb|второго|\\phantom{\\verb!x!}\\verb|рода|\\]</html>"
      ],
      "text/latex": [
       "$$\\newcommand{\\Bold}[1]{\\mathbf{#1}}x_0 = 0 \\phantom{\\verb!x!}\\verb|разрыв|\\phantom{\\verb!x!}\\verb|второго|\\phantom{\\verb!x!}\\verb|рода|$$"
      ],
      "text/plain": [
       "x_0 = 0 ' разрыв второго рода'"
      ]
     },
     "metadata": {},
     "output_type": "display_data"
    },
    {
     "data": {
      "text/html": [
       "<html>\\[\\newcommand{\\Bold}[1]{\\mathbf{#1}}x_1 = 1 \\phantom{\\verb!x!}\\verb|разрыв|\\phantom{\\verb!x!}\\verb|второго|\\phantom{\\verb!x!}\\verb|рода|\\]</html>"
      ],
      "text/latex": [
       "$$\\newcommand{\\Bold}[1]{\\mathbf{#1}}x_1 = 1 \\phantom{\\verb!x!}\\verb|разрыв|\\phantom{\\verb!x!}\\verb|второго|\\phantom{\\verb!x!}\\verb|рода|$$"
      ],
      "text/plain": [
       "x_1 = 1 ' разрыв второго рода'"
      ]
     },
     "metadata": {},
     "output_type": "display_data"
    }
   ],
   "source": [
    "i = 0\n",
    "for root in roots_null:\n",
    "    lim_left = lim(y, x = root, dir = 'left')\n",
    "    lim_right = lim(y, x = root, dir = 'right')\n",
    "    if (lim_left == lim_right and abs(lim_left) != oo and abs(lim_right) != oo):\n",
    "        show(LatexExpr(\"x_\" + str(i) + \" = \" + str(root)), \" разрыв первого рода\")\n",
    "    else:\n",
    "        show(LatexExpr(\"x_\" + str(i) + \" = \" + str(root)), \" разрыв второго рода\")\n",
    "    i = i + 1\n",
    "\n"
   ]
  },
  {
   "cell_type": "markdown",
   "metadata": {},
   "source": [
    "### Асимптоты."
   ]
  },
  {
   "cell_type": "code",
   "execution_count": 13,
   "metadata": {},
   "outputs": [
    {
     "data": {
      "text/html": [
       "<html>\\[\\newcommand{\\Bold}[1]{\\mathbf{#1}}\\lim_{x \\to +\\infty} y(x) = 1\\]</html>"
      ],
      "text/latex": [
       "$$\\newcommand{\\Bold}[1]{\\mathbf{#1}}\\lim_{x \\to +\\infty} y(x) = 1$$"
      ],
      "text/plain": [
       "\\lim_{x \\to +\\infty} y(x) = 1"
      ]
     },
     "metadata": {},
     "output_type": "display_data"
    }
   ],
   "source": [
    "lim_inf_right = lim(y, x = +oo)\n",
    "show(LatexExpr(r'\\lim_{x \\to +\\infty} y(x) = ') + str(lim_inf_right.simplify_full()))"
   ]
  },
  {
   "cell_type": "code",
   "execution_count": 14,
   "metadata": {},
   "outputs": [
    {
     "data": {
      "text/html": [
       "<html>\\[\\newcommand{\\Bold}[1]{\\mathbf{#1}}\\lim_{x \\to -\\infty} y(x) = 1\\]</html>"
      ],
      "text/latex": [
       "$$\\newcommand{\\Bold}[1]{\\mathbf{#1}}\\lim_{x \\to -\\infty} y(x) = 1$$"
      ],
      "text/plain": [
       "\\lim_{x \\to -\\infty} y(x) = 1"
      ]
     },
     "metadata": {},
     "output_type": "display_data"
    }
   ],
   "source": [
    "lim_inf_left = lim(y, x = -oo)\n",
    "show(LatexExpr(r'\\lim_{x \\to -\\infty} y(x) = ') + str(lim_inf_left.simplify_full()))"
   ]
  },
  {
   "cell_type": "markdown",
   "metadata": {},
   "source": [
    "plot(y, xmin = -10.0, xmax = 10.0, ymin = -10.0, ymax = 10.0, detect_poles = \"show\")"
   ]
  },
  {
   "cell_type": "markdown",
   "metadata": {},
   "source": [
    "Вывод: имеем асимптоту $y = 1$ "
   ]
  },
  {
   "cell_type": "code",
   "execution_count": null,
   "metadata": {},
   "outputs": [],
   "source": []
  }
 ],
 "metadata": {
  "kernelspec": {
   "display_name": "SageMath 9.4",
   "language": "sage",
   "name": "sagemath"
  },
  "language_info": {
   "codemirror_mode": {
    "name": "ipython",
    "version": 3
   },
   "file_extension": ".py",
   "mimetype": "text/x-python",
   "name": "python",
   "nbconvert_exporter": "python",
   "pygments_lexer": "ipython3",
   "version": "3.9.5"
  }
 },
 "nbformat": 4,
 "nbformat_minor": 2
}

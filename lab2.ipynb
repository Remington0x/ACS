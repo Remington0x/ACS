{
 "cells": [
  {
   "cell_type": "markdown",
   "metadata": {},
   "source": [
    "# Лабораторная работа № 2\n",
    "\n",
    "## По курсу \"Системы аналитических вычислений\"\n",
    "\n",
    "### Студент: Терво А. А.\n",
    "\n",
    "## Задание 1. Метод прямоугольников, метод трапеций."
   ]
  },
  {
   "cell_type": "code",
   "execution_count": 11,
   "metadata": {},
   "outputs": [],
   "source": [
    "# Точность вычислений (знаков после запятой)\n",
    "acc = 6\n",
    "\n",
    "def RectMethod(y, a, b, count):\n",
    "    step = (b - a) / count\n",
    "    values = []\n",
    "    for i in range(count):\n",
    "        values.append(a + i * step)\n",
    "    values.append(b)\n",
    "    f_values = []\n",
    "    min_val = 0\n",
    "    max_val = 0\n",
    "    for i in range(count):\n",
    "        cur_f_val = y(values[i])\n",
    "        min_val = min(cur_f_val, min_val)\n",
    "        max_val = max(cur_f_val, max_val)\n",
    "        f_values.append(cur_f_val)\n",
    "    visualization = plot(y, xmin = a, xmax = b, ymin = min_val, ymax = max_val, color = \"red\")\n",
    "    for i in range(count):\n",
    "        rect = [\n",
    "            [values[i], 0],\n",
    "            [values[i], f_values[i]],\n",
    "            [values[i + 1], f_values[i]],\n",
    "            [values[i + 1], 0],\n",
    "        ]\n",
    "        rect.append(rect[0])\n",
    "        visualization += line(rect, color = \"blue\")\n",
    "    ans = 0\n",
    "    for i in range(count):\n",
    "        ans = ans + step * f_values[i]\n",
    "    \n",
    "    return visualization\n",
    "\n",
    "def TrapMethod(y, a, b, count):\n",
    "    step = (b - a) / count\n",
    "    values = []\n",
    "    for i in range(count):\n",
    "        values.append(a + i * step)\n",
    "    values.append(b)\n",
    "    f_values = []\n",
    "    min_val = 0\n",
    "    max_val = 0\n",
    "    for i in range(count + 1):\n",
    "        cur_f_val = y(values[i])\n",
    "        min_val = min(cur_f_val, min_val)\n",
    "        max_val = max(cur_f_val, max_val)\n",
    "        f_values.append(cur_f_val)\n",
    "    visualization = plot(y, xmin = a, xmax = b, ymin = min_val, ymax = max_val, color = \"red\")\n",
    "    for i in range(count):\n",
    "        trapeze = [\n",
    "            [values[i], 0],\n",
    "            [values[i], f_values[i]],\n",
    "            [values[i + 1], f_values[i + 1]], \n",
    "            [values[i + 1], 0]\n",
    "        ]\n",
    "        trapeze.append(trapeze[0])\n",
    "        visualization += line(trapeze, color = \"blue\")\n",
    "        \n",
    "    ans = 0\n",
    "    for i in range(count):\n",
    "        ans = ans + step * (f_values[i] + f_values[i + 1]) / 2\n",
    "        \n",
    "    return visualization"
   ]
  },
  {
   "cell_type": "code",
   "execution_count": 12,
   "metadata": {},
   "outputs": [],
   "source": [
    "int_f(x) = (ln(x - 2) + 1) / (x - 2)\n",
    "left_border = 2.5\n",
    "right_border = 50\n",
    "\n",
    "min_steps = 1\n",
    "max_steps = 100"
   ]
  },
  {
   "cell_type": "code",
   "execution_count": 13,
   "metadata": {},
   "outputs": [
    {
     "data": {
      "application/vnd.jupyter.widget-view+json": {
       "model_id": "44eb7913118d4e8c8ca4e5c067743641",
       "version_major": 2,
       "version_minor": 0
      },
      "text/plain": [
       "Interactive function <function _ at 0x7fee5164f9d0> with 1 widget\n",
       "  step: IntSlider(value=50, description='ste…"
      ]
     },
     "metadata": {},
     "output_type": "display_data"
    }
   ],
   "source": [
    "@interact\n",
    "def _(step = (min_steps, max_steps, 1)):\n",
    "    visRect = RectMethod(int_f, left_border, right_border, step)\n",
    "    visTrap = TrapMethod(int_f, left_border, right_border, step)\n",
    "    graphics_array([visRect, visTrap]).show(frame=True, axes=False)"
   ]
  },
  {
   "cell_type": "markdown",
   "metadata": {},
   "source": [
    "## Задание 2. Полиномы и расширенный алгоритм Евклида."
   ]
  },
  {
   "cell_type": "code",
   "execution_count": 37,
   "metadata": {},
   "outputs": [],
   "source": [
    "def myGcd(a, b):\n",
    "    if (a == 0):\n",
    "        return (b, 0, 1)\n",
    "    d, x1, y1 = myGcd(b % a, a)\n",
    "    x = y1 - (b // a) * x1\n",
    "    y = x1\n",
    "    return (d, x, y)"
   ]
  },
  {
   "cell_type": "code",
   "execution_count": 41,
   "metadata": {},
   "outputs": [
    {
     "data": {
      "text/html": [
       "<html>\\[\\newcommand{\\Bold}[1]{\\mathbf{#1}}\\gcd(f(x), g(x)) = x^{3} - 3 x\\]</html>"
      ],
      "text/latex": [
       "$$\\newcommand{\\Bold}[1]{\\mathbf{#1}}\\gcd(f(x), g(x)) = x^{3} - 3 x$$"
      ],
      "text/plain": [
       "\\gcd(f(x), g(x)) = x^{3} - 3 x"
      ]
     },
     "metadata": {},
     "output_type": "display_data"
    },
    {
     "data": {
      "text/html": [
       "<html>\\[\\newcommand{\\Bold}[1]{\\mathbf{#1}}\\gcd^{\\sim}(f(x), g(x)) = -\\frac{1420804}{4563} x^{3} + \\frac{1420804}{1521} x\\]</html>"
      ],
      "text/latex": [
       "$$\\newcommand{\\Bold}[1]{\\mathbf{#1}}\\gcd^{\\sim}(f(x), g(x)) = -\\frac{1420804}{4563} x^{3} + \\frac{1420804}{1521} x$$"
      ],
      "text/plain": [
       "\\gcd^{\\sim}(f(x), g(x)) = -\\frac{1420804}{4563} x^{3} + \\frac{1420804}{1521} x"
      ]
     },
     "metadata": {},
     "output_type": "display_data"
    }
   ],
   "source": [
    "# Вариант 5\n",
    "\n",
    "f = 12 * x ^ 7 - 168 * x ^ 5 + 288 * x ^ 3 + 324 * x\n",
    "g = 4 * x ^ 6 - 28 * x ^ 4 + 20 * x ^ 3 + 48 * x ^ 2 - 60 * x\n",
    "\n",
    "show(LatexExpr(r'\\gcd(f(x), g(x)) = ' + latex(gcd(f, g))))\n",
    "d, a, b = (i for i in myGcd(f, g))\n",
    "show(LatexExpr(r'\\gcd^{\\sim}(f(x), g(x)) = ' + latex(d)))"
   ]
  },
  {
   "cell_type": "markdown",
   "metadata": {},
   "source": []
  },
  {
   "cell_type": "code",
   "execution_count": 42,
   "metadata": {},
   "outputs": [
    {
     "data": {
      "text/html": [
       "<html>\\[\\newcommand{\\Bold}[1]{\\mathbf{#1}}f(x) * u + v * g(x) = \\gcd(f(x), g(x))\\]</html>"
      ],
      "text/latex": [
       "$$\\newcommand{\\Bold}[1]{\\mathbf{#1}}f(x) * u + v * g(x) = \\gcd(f(x), g(x))$$"
      ],
      "text/plain": [
       "f(x) * u + v * g(x) = \\gcd(f(x), g(x))"
      ]
     },
     "metadata": {},
     "output_type": "display_data"
    },
    {
     "data": {
      "text/html": [
       "<html>\\[\\newcommand{\\Bold}[1]{\\mathbf{#1}}u = -\\frac{49}{234} x^{2} - \\frac{7105}{27378} x + \\frac{17689}{13689}\\]</html>"
      ],
      "text/latex": [
       "$$\\newcommand{\\Bold}[1]{\\mathbf{#1}}u = -\\frac{49}{234} x^{2} - \\frac{7105}{27378} x + \\frac{17689}{13689}$$"
      ],
      "text/plain": [
       "u = -\\frac{49}{234} x^{2} - \\frac{7105}{27378} x + \\frac{17689}{13689}"
      ]
     },
     "metadata": {},
     "output_type": "display_data"
    },
    {
     "data": {
      "text/html": [
       "<html>\\[\\newcommand{\\Bold}[1]{\\mathbf{#1}}v = \\frac{49}{78} x^{3} + \\frac{7105}{9126} x^{2} - \\frac{75509}{9126} x - \\frac{39200}{4563}\\]</html>"
      ],
      "text/latex": [
       "$$\\newcommand{\\Bold}[1]{\\mathbf{#1}}v = \\frac{49}{78} x^{3} + \\frac{7105}{9126} x^{2} - \\frac{75509}{9126} x - \\frac{39200}{4563}$$"
      ],
      "text/plain": [
       "v = \\frac{49}{78} x^{3} + \\frac{7105}{9126} x^{2} - \\frac{75509}{9126} x - \\frac{39200}{4563}"
      ]
     },
     "metadata": {},
     "output_type": "display_data"
    },
    {
     "data": {
      "text/html": [
       "<html>\\[\\newcommand{\\Bold}[1]{\\mathbf{#1}}( 12 x^{7} - 168 x^{5} + 288 x^{3} + 324 x ) * ( -\\frac{49}{234} x^{2} - \\frac{7105}{27378} x + \\frac{17689}{13689} ) + ( \\frac{49}{78} x^{3} + \\frac{7105}{9126} x^{2} - \\frac{75509}{9126} x - \\frac{39200}{4563} ) * ( 4 x^{6} - 28 x^{4} + 20 x^{3} + 48 x^{2} - 60 x ) = -\\frac{1420804}{4563} x^{3} + \\frac{1420804}{1521} x\\]</html>"
      ],
      "text/latex": [
       "$$\\newcommand{\\Bold}[1]{\\mathbf{#1}}( 12 x^{7} - 168 x^{5} + 288 x^{3} + 324 x ) * ( -\\frac{49}{234} x^{2} - \\frac{7105}{27378} x + \\frac{17689}{13689} ) + ( \\frac{49}{78} x^{3} + \\frac{7105}{9126} x^{2} - \\frac{75509}{9126} x - \\frac{39200}{4563} ) * ( 4 x^{6} - 28 x^{4} + 20 x^{3} + 48 x^{2} - 60 x ) = -\\frac{1420804}{4563} x^{3} + \\frac{1420804}{1521} x$$"
      ],
      "text/plain": [
       "( 12 x^{7} - 168 x^{5} + 288 x^{3} + 324 x ) * ( -\\frac{49}{234} x^{2} - \\frac{7105}{27378} x + \\frac{17689}{13689} ) + ( \\frac{49}{78} x^{3} + \\frac{7105}{9126} x^{2} - \\frac{75509}{9126} x - \\frac{39200}{4563} ) * ( 4 x^{6} - 28 x^{4} + 20 x^{3} + 48 x^{2} - 60 x ) = -\\frac{1420804}{4563} x^{3} + \\frac{1420804}{1521} x"
      ]
     },
     "metadata": {},
     "output_type": "display_data"
    }
   ],
   "source": [
    "if ((f(x) * a + g(x) * b) == d):\n",
    "    show(LatexExpr(r'f(x) * u + v * g(x) = \\gcd(f(x), g(x))'))\n",
    "    show(LatexExpr(\"u = \" + latex(a)))\n",
    "    show(LatexExpr(\"v = \" + latex(b)))\n",
    "    show(LatexExpr(\"(\" + latex(f(x)) + \") * (\" + latex(a) + \") + (\" + latex(b) + \") * (\" + latex(g(x)) + \") = \" + latex(d)))"
   ]
  },
  {
   "cell_type": "code",
   "execution_count": null,
   "metadata": {},
   "outputs": [],
   "source": []
  }
 ],
 "metadata": {
  "kernelspec": {
   "display_name": "SageMath 9.4",
   "language": "sage",
   "name": "sagemath"
  },
  "language_info": {
   "codemirror_mode": {
    "name": "ipython",
    "version": 3
   },
   "file_extension": ".py",
   "mimetype": "text/x-python",
   "name": "python",
   "nbconvert_exporter": "python",
   "pygments_lexer": "ipython3",
   "version": "3.9.5"
  }
 },
 "nbformat": 4,
 "nbformat_minor": 4
}
